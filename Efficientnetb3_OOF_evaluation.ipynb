{
 "cells": [
  {
   "cell_type": "markdown",
   "metadata": {
    "papermill": {
     "duration": 0.011452,
     "end_time": "2021-01-22T00:58:53.614492",
     "exception": false,
     "start_time": "2021-01-22T00:58:53.603040",
     "status": "completed"
    },
    "tags": []
   },
   "source": [
    "### Import Libraries and TensforFlow Setup"
   ]
  },
  {
   "cell_type": "code",
   "execution_count": 1,
   "metadata": {
    "ExecuteTime": {
     "end_time": "2021-01-27T09:01:14.937484Z",
     "start_time": "2021-01-27T09:01:11.188841Z"
    },
    "execution": {
     "iopub.execute_input": "2021-01-22T00:58:53.645648Z",
     "iopub.status.busy": "2021-01-22T00:58:53.644948Z",
     "iopub.status.idle": "2021-01-22T00:58:58.628437Z",
     "shell.execute_reply": "2021-01-22T00:58:58.627013Z"
    },
    "papermill": {
     "duration": 5.003532,
     "end_time": "2021-01-22T00:58:58.628554",
     "exception": false,
     "start_time": "2021-01-22T00:58:53.625022",
     "status": "completed"
    },
    "tags": []
   },
   "outputs": [],
   "source": [
    "import numpy as np\n",
    "import pandas as pd\n",
    "import matplotlib.pyplot as plt\n",
    "import seaborn as sns\n",
    "import os, glob, shutil, pickle, random, gc\n",
    "from collections import Counter\n",
    "from PIL import Image\n",
    "from sklearn.utils import shuffle\n",
    "from sklearn.model_selection import KFold\n",
    "from sklearn.metrics import (confusion_matrix, classification_report, \n",
    "                             accuracy_score)\n",
    "\n",
    "import tensorflow as tf\n",
    "from keras import models, layers, optimizers\n",
    "from keras import backend as K\n",
    "from keras.preprocessing.image import ImageDataGenerator\n",
    "from keras.optimizers import Adam\n",
    "from keras.callbacks import ModelCheckpoint\n",
    "from keras import Model\n",
    "\n",
    "from tensorflow.keras.experimental import CosineDecay\n",
    "from tensorflow.keras.applications import EfficientNetB3\n",
    "from tensorflow.keras.losses import categorical_crossentropy\n",
    "from tensorflow.keras.layers import (Dense, Dropout, Activation, Input, \n",
    "                                     GlobalAveragePooling2D, average, add, \n",
    "                                     maximum)\n",
    "\n",
    "from tqdm.notebook import tqdm"
   ]
  },
  {
   "cell_type": "markdown",
   "metadata": {
    "papermill": {
     "duration": 0.010425,
     "end_time": "2021-01-22T00:58:58.649797",
     "exception": false,
     "start_time": "2021-01-22T00:58:58.639372",
     "status": "completed"
    },
    "tags": []
   },
   "source": [
    "### Recreate Model and load weights"
   ]
  },
  {
   "cell_type": "markdown",
   "metadata": {},
   "source": [
    "#### Parameters"
   ]
  },
  {
   "cell_type": "code",
   "execution_count": 2,
   "metadata": {
    "ExecuteTime": {
     "end_time": "2021-01-27T09:01:14.943058Z",
     "start_time": "2021-01-27T09:01:14.939895Z"
    },
    "execution": {
     "iopub.execute_input": "2021-01-22T00:58:58.678303Z",
     "iopub.status.busy": "2021-01-22T00:58:58.677773Z",
     "iopub.status.idle": "2021-01-22T00:58:58.686598Z",
     "shell.execute_reply": "2021-01-22T00:58:58.686115Z"
    },
    "papermill": {
     "duration": 0.026503,
     "end_time": "2021-01-22T00:58:58.686683",
     "exception": false,
     "start_time": "2021-01-22T00:58:58.660180",
     "status": "completed"
    },
    "tags": []
   },
   "outputs": [],
   "source": [
    "N_CLASSES = 5\n",
    "IMAGE_SIZE = 512\n",
    "INPUT_SHAPE = (IMAGE_SIZE, IMAGE_SIZE, 3)\n",
    "EPOCHS = 8\n",
    "TARGET_SIZE = INPUT_SHAPE\n",
    "DROPOUT = 0.4"
   ]
  },
  {
   "cell_type": "markdown",
   "metadata": {},
   "source": [
    "#### Loading models of EfficientNetB3"
   ]
  },
  {
   "cell_type": "code",
   "execution_count": 3,
   "metadata": {
    "ExecuteTime": {
     "end_time": "2021-01-27T09:01:14.949937Z",
     "start_time": "2021-01-27T09:01:14.945123Z"
    },
    "execution": {
     "iopub.execute_input": "2021-01-22T00:58:58.714341Z",
     "iopub.status.busy": "2021-01-22T00:58:58.713666Z",
     "iopub.status.idle": "2021-01-22T00:58:58.716652Z",
     "shell.execute_reply": "2021-01-22T00:58:58.716205Z"
    },
    "papermill": {
     "duration": 0.019197,
     "end_time": "2021-01-22T00:58:58.716729",
     "exception": false,
     "start_time": "2021-01-22T00:58:58.697532",
     "status": "completed"
    },
    "tags": []
   },
   "outputs": [],
   "source": [
    "def create_model():\n",
    "    conv_base = EfficientNetB3(weights='imagenet',\n",
    "                               include_top=False,\n",
    "                               input_shape=(INPUT_SHAPE))\n",
    "\n",
    "    inputs = Input(shape=INPUT_SHAPE)\n",
    "    conv_base = conv_base(inputs)\n",
    "    pooling = layers.GlobalAveragePooling2D()(conv_base)\n",
    "    dropout = layers.Dropout(DROPOUT)(pooling)\n",
    "    outputs = Dense(N_CLASSES, activation=\"softmax\")(dropout)\n",
    "    model = Model(inputs=inputs, outputs=outputs)\n",
    "    \n",
    "    return model"
   ]
  },
  {
   "cell_type": "code",
   "execution_count": 4,
   "metadata": {
    "ExecuteTime": {
     "end_time": "2021-01-27T09:01:34.915597Z",
     "start_time": "2021-01-27T09:01:14.951815Z"
    },
    "execution": {
     "iopub.execute_input": "2021-01-22T00:58:58.742960Z",
     "iopub.status.busy": "2021-01-22T00:58:58.742470Z",
     "iopub.status.idle": "2021-01-22T00:59:40.926013Z",
     "shell.execute_reply": "2021-01-22T00:59:40.924922Z"
    },
    "papermill": {
     "duration": 42.199283,
     "end_time": "2021-01-22T00:59:40.926129",
     "exception": false,
     "start_time": "2021-01-22T00:58:58.726846",
     "status": "completed"
    },
    "tags": []
   },
   "outputs": [],
   "source": [
    "models = []\n",
    "\n",
    "model_1 = create_model()\n",
    "model_2 = create_model()\n",
    "model_3 = create_model()\n",
    "model_4 = create_model()\n",
    "model_5 = create_model()\n",
    "\n",
    "model_1.load_weights(\"efficientnetb3-CV-ls_0.3_oof_0.h5\")\n",
    "model_2.load_weights(\"efficientnetb3-CV-ls_0.3_oof_1.h5\")\n",
    "model_3.load_weights(\"efficientnetb3-CV-ls_0.3_oof_2.h5\")\n",
    "model_4.load_weights(\"efficientnetb3-CV-ls_0.3_oof_3.h5\")\n",
    "model_5.load_weights(\"efficientnetb3-CV-ls_0.3_oof_4.h5\")\n",
    "\n",
    "model_1._name = 'model_1'\n",
    "model_2._name = 'model_2'\n",
    "model_3._name = 'model_3'\n",
    "model_4._name = 'model_4'\n",
    "model_5._name = 'model_5'"
   ]
  },
  {
   "cell_type": "code",
   "execution_count": 5,
   "metadata": {
    "ExecuteTime": {
     "end_time": "2021-01-27T09:01:34.922792Z",
     "start_time": "2021-01-27T09:01:34.918346Z"
    },
    "execution": {
     "iopub.execute_input": "2021-01-22T00:59:40.952828Z",
     "iopub.status.busy": "2021-01-22T00:59:40.951020Z",
     "iopub.status.idle": "2021-01-22T00:59:40.953432Z",
     "shell.execute_reply": "2021-01-22T00:59:40.953838Z"
    },
    "papermill": {
     "duration": 0.017106,
     "end_time": "2021-01-22T00:59:40.953937",
     "exception": false,
     "start_time": "2021-01-22T00:59:40.936831",
     "status": "completed"
    },
    "tags": []
   },
   "outputs": [],
   "source": [
    "models = [model_1, model_2, model_3, model_4, model_5]"
   ]
  },
  {
   "cell_type": "markdown",
   "metadata": {},
   "source": [
    "#### Test Time Augmentation"
   ]
  },
  {
   "cell_type": "code",
   "execution_count": 6,
   "metadata": {
    "ExecuteTime": {
     "end_time": "2021-01-27T09:01:34.952361Z",
     "start_time": "2021-01-27T09:01:34.926974Z"
    },
    "execution": {
     "iopub.execute_input": "2021-01-22T00:59:41.005705Z",
     "iopub.status.busy": "2021-01-22T00:59:41.004843Z",
     "iopub.status.idle": "2021-01-22T00:59:41.017980Z",
     "shell.execute_reply": "2021-01-22T00:59:41.016767Z"
    },
    "papermill": {
     "duration": 0.032972,
     "end_time": "2021-01-22T00:59:41.018068",
     "exception": false,
     "start_time": "2021-01-22T00:59:40.985096",
     "status": "completed"
    },
    "tags": []
   },
   "outputs": [],
   "source": [
    "test_time_augmentation_layers = tf.keras.Sequential(\n",
    "    [layers.experimental.preprocessing.CenterCrop(512, 512),\n",
    "     layers.experimental.preprocessing.RandomFlip(\"horizontal_and_vertical\"),\n",
    "     layers.experimental.preprocessing.RandomZoom((-0.3, 0.3)),\n",
    "     layers.experimental.preprocessing.RandomContrast((0.5,0.5)),\n",
    "     layers.experimental.preprocessing.Normalization()]\n",
    ")"
   ]
  },
  {
   "cell_type": "markdown",
   "metadata": {
    "ExecuteTime": {
     "end_time": "2021-01-26T06:17:16.260454Z",
     "start_time": "2021-01-26T06:17:16.255378Z"
    }
   },
   "source": [
    "### Predict on Sample Test Set"
   ]
  },
  {
   "cell_type": "markdown",
   "metadata": {},
   "source": [
    "#### Helper Functions"
   ]
  },
  {
   "cell_type": "code",
   "execution_count": 7,
   "metadata": {
    "ExecuteTime": {
     "end_time": "2021-01-27T09:01:34.961196Z",
     "start_time": "2021-01-27T09:01:34.954702Z"
    },
    "execution": {
     "iopub.execute_input": "2021-01-22T00:59:41.046525Z",
     "iopub.status.busy": "2021-01-22T00:59:41.045849Z",
     "iopub.status.idle": "2021-01-22T00:59:41.049437Z",
     "shell.execute_reply": "2021-01-22T00:59:41.048924Z"
    },
    "papermill": {
     "duration": 0.021146,
     "end_time": "2021-01-22T00:59:41.049516",
     "exception": false,
     "start_time": "2021-01-22T00:59:41.028370",
     "status": "completed"
    },
    "tags": []
   },
   "outputs": [],
   "source": [
    "def scan_over_image(img_path, crop_size=512):\n",
    "    '''\n",
    "    Will extract 512x512 images covering the whole original image\n",
    "    with some overlap between images\n",
    "    '''\n",
    "    \n",
    "    img = Image.open(img_path)\n",
    "    img_height, img_width = img.size\n",
    "    img = np.array(img)\n",
    "    \n",
    "    y = random.randint(0,img_height-crop_size)\n",
    "    x = random.randint(0,img_width-crop_size)\n",
    "\n",
    "    x_img_origins = [0,img_width-crop_size]\n",
    "    y_img_origins = [0,img_height-crop_size]\n",
    "    img_list = []\n",
    "    for x in x_img_origins:\n",
    "        for y in y_img_origins:\n",
    "            img_list.append(img[x:x+crop_size , y:y+crop_size,:])\n",
    "  \n",
    "    return np.array(img_list)"
   ]
  },
  {
   "cell_type": "code",
   "execution_count": 8,
   "metadata": {
    "ExecuteTime": {
     "end_time": "2021-01-27T09:01:34.970929Z",
     "start_time": "2021-01-27T09:01:34.963780Z"
    },
    "execution": {
     "iopub.execute_input": "2021-01-22T00:59:41.080441Z",
     "iopub.status.busy": "2021-01-22T00:59:41.079282Z",
     "iopub.status.idle": "2021-01-22T00:59:41.082120Z",
     "shell.execute_reply": "2021-01-22T00:59:41.081729Z"
    },
    "papermill": {
     "duration": 0.021761,
     "end_time": "2021-01-22T00:59:41.082199",
     "exception": false,
     "start_time": "2021-01-22T00:59:41.060438",
     "status": "completed"
    },
    "tags": []
   },
   "outputs": [],
   "source": [
    "def predict_and_vote(image_filename, folder, TTA_runs=4):\n",
    "    \"\"\"\n",
    "    Run all models over 4 local areas of the given image,\n",
    "    before making a decision depending on the most predicted\n",
    "    disease.\n",
    "    \"\"\"\n",
    "    \n",
    "    model_predictions = []\n",
    "    \n",
    "    for model in models:\n",
    "        # apply TTA to each of the 4 images and sum all predictions for each \n",
    "        # local image\n",
    "        localised_predictions = []\n",
    "        local_image_list = scan_over_image(folder+image_filename)\n",
    "        for local_image in local_image_list:\n",
    "            local_image = tf.expand_dims(local_image,0)\n",
    "            augmented_images = [test_time_augmentation_layers(local_image) \n",
    "                                for i in range(TTA_runs)]\n",
    "            predictions = model.predict(np.array(augmented_images[0]))\n",
    "            localised_predictions.append(np.sum(predictions, axis=0))\n",
    "\n",
    "        # sum predictions from all 4 images and retrieve the index of the \n",
    "        # highest value\n",
    "        global_predictions = np.sum(np.array(localised_predictions),axis=0)\n",
    "        model_predictions += [global_predictions]\n",
    "        \n",
    "    global_predictions = np.sum(np.array(model_predictions),axis=0)\n",
    "    final_prediction = np.argmax(global_predictions)\n",
    "    \n",
    "    return final_prediction"
   ]
  },
  {
   "cell_type": "code",
   "execution_count": 9,
   "metadata": {
    "ExecuteTime": {
     "end_time": "2021-01-27T09:01:34.978839Z",
     "start_time": "2021-01-27T09:01:34.973517Z"
    },
    "execution": {
     "iopub.execute_input": "2021-01-22T00:59:41.108939Z",
     "iopub.status.busy": "2021-01-22T00:59:41.108425Z",
     "iopub.status.idle": "2021-01-22T00:59:41.112193Z",
     "shell.execute_reply": "2021-01-22T00:59:41.111801Z"
    },
    "papermill": {
     "duration": 0.01876,
     "end_time": "2021-01-22T00:59:41.112323",
     "exception": false,
     "start_time": "2021-01-22T00:59:41.093563",
     "status": "completed"
    },
    "tags": []
   },
   "outputs": [],
   "source": [
    "def run_predictions_over_image_list(image_list, folder):\n",
    "    \"\"\"\n",
    "    Accepts image filenames and folder, iterates prediction over all images,\n",
    "    and returns the predictions.\n",
    "    \"\"\"\n",
    "    \n",
    "    predictions = []\n",
    "    with tqdm(total=len(image_list)) as pbar:\n",
    "        for image_filename in image_list:\n",
    "            pbar.update(1)\n",
    "            predictions.append(predict_and_vote(image_filename, folder, 4))\n",
    "    return predictions"
   ]
  },
  {
   "cell_type": "markdown",
   "metadata": {},
   "source": [
    "#### Run Predictions"
   ]
  },
  {
   "cell_type": "code",
   "execution_count": 10,
   "metadata": {
    "ExecuteTime": {
     "end_time": "2021-01-27T09:01:35.012192Z",
     "start_time": "2021-01-27T09:01:34.981066Z"
    }
   },
   "outputs": [
    {
     "data": {
      "text/html": [
       "<div>\n",
       "<style scoped>\n",
       "    .dataframe tbody tr th:only-of-type {\n",
       "        vertical-align: middle;\n",
       "    }\n",
       "\n",
       "    .dataframe tbody tr th {\n",
       "        vertical-align: top;\n",
       "    }\n",
       "\n",
       "    .dataframe thead th {\n",
       "        text-align: right;\n",
       "    }\n",
       "</style>\n",
       "<table border=\"1\" class=\"dataframe\">\n",
       "  <thead>\n",
       "    <tr style=\"text-align: right;\">\n",
       "      <th></th>\n",
       "      <th>image_id</th>\n",
       "      <th>actual</th>\n",
       "    </tr>\n",
       "  </thead>\n",
       "  <tbody>\n",
       "    <tr>\n",
       "      <th>0</th>\n",
       "      <td>2615227158.jpg</td>\n",
       "      <td>4</td>\n",
       "    </tr>\n",
       "    <tr>\n",
       "      <th>1</th>\n",
       "      <td>1277648239.jpg</td>\n",
       "      <td>3</td>\n",
       "    </tr>\n",
       "    <tr>\n",
       "      <th>2</th>\n",
       "      <td>2305895487.jpg</td>\n",
       "      <td>3</td>\n",
       "    </tr>\n",
       "    <tr>\n",
       "      <th>3</th>\n",
       "      <td>336299725.jpg</td>\n",
       "      <td>2</td>\n",
       "    </tr>\n",
       "    <tr>\n",
       "      <th>4</th>\n",
       "      <td>1951270318.jpg</td>\n",
       "      <td>2</td>\n",
       "    </tr>\n",
       "  </tbody>\n",
       "</table>\n",
       "</div>"
      ],
      "text/plain": [
       "         image_id  actual\n",
       "0  2615227158.jpg       4\n",
       "1  1277648239.jpg       3\n",
       "2  2305895487.jpg       3\n",
       "3   336299725.jpg       2\n",
       "4  1951270318.jpg       2"
      ]
     },
     "execution_count": 10,
     "metadata": {},
     "output_type": "execute_result"
    }
   ],
   "source": [
    "src_folder = '../cassava-leaf-disease-classification/train_images/'\n",
    "oof = pd.read_csv('oof.csv', usecols=['label', 'image_id'])\n",
    "oof.rename(columns={'label':'actual'}, inplace=True)\n",
    "oof.head()"
   ]
  },
  {
   "cell_type": "code",
   "execution_count": 11,
   "metadata": {
    "ExecuteTime": {
     "end_time": "2021-01-27T11:58:54.360648Z",
     "start_time": "2021-01-27T09:01:35.014439Z"
    },
    "execution": {
     "iopub.execute_input": "2021-01-22T00:59:41.217659Z",
     "iopub.status.busy": "2021-01-22T00:59:41.216460Z",
     "iopub.status.idle": "2021-01-22T00:59:55.465882Z",
     "shell.execute_reply": "2021-01-22T00:59:55.466591Z"
    },
    "papermill": {
     "duration": 14.265473,
     "end_time": "2021-01-22T00:59:55.466789",
     "exception": false,
     "start_time": "2021-01-22T00:59:41.201316",
     "status": "completed"
    },
    "scrolled": true,
    "tags": []
   },
   "outputs": [
    {
     "data": {
      "application/vnd.jupyter.widget-view+json": {
       "model_id": "fb1fe8062f8f4c7187263a6fe06e3f01",
       "version_major": 2,
       "version_minor": 0
      },
      "text/plain": [
       "  0%|          | 0/4279 [00:00<?, ?it/s]"
      ]
     },
     "metadata": {},
     "output_type": "display_data"
    }
   ],
   "source": [
    "oof[\"prediction\"] = run_predictions_over_image_list(oof[\"image_id\"], \n",
    "                                                    src_folder)"
   ]
  },
  {
   "cell_type": "markdown",
   "metadata": {},
   "source": [
    "### Evaluation"
   ]
  },
  {
   "cell_type": "code",
   "execution_count": 81,
   "metadata": {
    "ExecuteTime": {
     "end_time": "2021-01-27T13:52:47.258258Z",
     "start_time": "2021-01-27T13:52:47.254559Z"
    }
   },
   "outputs": [],
   "source": [
    "labels = ['Bacterial Blight (CBB)',\n",
    "          'Brown Streak Disease (CBSD)',\n",
    "          'Green Mottle (CGM)',\n",
    "          'Mosaic Disease (CMD)',\n",
    "          'Healthy']"
   ]
  },
  {
   "cell_type": "code",
   "execution_count": 104,
   "metadata": {
    "ExecuteTime": {
     "end_time": "2021-01-27T14:13:52.775123Z",
     "start_time": "2021-01-27T14:13:51.126578Z"
    }
   },
   "outputs": [
    {
     "data": {
      "image/png": "[encoded data removed]",
      "text/plain": [
       "<Figure size 720x504 with 2 Axes>"
      ]
     },
     "metadata": {},
     "output_type": "display_data"
    }
   ],
   "source": [
    "df_cm = pd.DataFrame(conf, index = labels,\n",
    "                  columns = [labels[i].split(' ')[-1] for i in range(5)])\n",
    "plt.figure(figsize = (10,7))\n",
    "\n",
    "sns. set(font_scale=1.1)\n",
    "sns.heatmap(df_cm, annot=True, fmt='g', cmap='Greens')\n",
    "# plt.savefig('conf.jpg', dpi=300, bbox_inches = 'tight')"
   ]
  },
  {
   "cell_type": "code",
   "execution_count": 100,
   "metadata": {
    "ExecuteTime": {
     "end_time": "2021-01-27T13:59:46.948279Z",
     "start_time": "2021-01-27T13:59:46.917878Z"
    }
   },
   "outputs": [
    {
     "data": {
      "text/html": [
       "<div>\n",
       "<style scoped>\n",
       "    .dataframe tbody tr th:only-of-type {\n",
       "        vertical-align: middle;\n",
       "    }\n",
       "\n",
       "    .dataframe tbody tr th {\n",
       "        vertical-align: top;\n",
       "    }\n",
       "\n",
       "    .dataframe thead th {\n",
       "        text-align: right;\n",
       "    }\n",
       "</style>\n",
       "<table border=\"1\" class=\"dataframe\">\n",
       "  <thead>\n",
       "    <tr style=\"text-align: right;\">\n",
       "      <th></th>\n",
       "      <th>Bacterial Blight (CBB)</th>\n",
       "      <th>Brown Streak Disease (CBSD)</th>\n",
       "      <th>Green Mottle (CGM)</th>\n",
       "      <th>Mosaic Disease (CMD)</th>\n",
       "      <th>Healthy</th>\n",
       "      <th>accuracy</th>\n",
       "      <th>macro avg</th>\n",
       "      <th>weighted avg</th>\n",
       "    </tr>\n",
       "  </thead>\n",
       "  <tbody>\n",
       "    <tr>\n",
       "      <th>precision</th>\n",
       "      <td>0.757576</td>\n",
       "      <td>0.847222</td>\n",
       "      <td>0.834101</td>\n",
       "      <td>0.959191</td>\n",
       "      <td>0.729167</td>\n",
       "      <td>0.899042</td>\n",
       "      <td>0.825451</td>\n",
       "      <td>0.897632</td>\n",
       "    </tr>\n",
       "    <tr>\n",
       "      <th>recall</th>\n",
       "      <td>0.595238</td>\n",
       "      <td>0.841379</td>\n",
       "      <td>0.780172</td>\n",
       "      <td>0.976057</td>\n",
       "      <td>0.774648</td>\n",
       "      <td>0.899042</td>\n",
       "      <td>0.793499</td>\n",
       "      <td>0.899042</td>\n",
       "    </tr>\n",
       "    <tr>\n",
       "      <th>f1-score</th>\n",
       "      <td>0.666667</td>\n",
       "      <td>0.844291</td>\n",
       "      <td>0.806236</td>\n",
       "      <td>0.967551</td>\n",
       "      <td>0.751220</td>\n",
       "      <td>0.899042</td>\n",
       "      <td>0.807193</td>\n",
       "      <td>0.897635</td>\n",
       "    </tr>\n",
       "    <tr>\n",
       "      <th>support</th>\n",
       "      <td>210.000000</td>\n",
       "      <td>435.000000</td>\n",
       "      <td>464.000000</td>\n",
       "      <td>2673.000000</td>\n",
       "      <td>497.000000</td>\n",
       "      <td>0.899042</td>\n",
       "      <td>4279.000000</td>\n",
       "      <td>4279.000000</td>\n",
       "    </tr>\n",
       "  </tbody>\n",
       "</table>\n",
       "</div>"
      ],
      "text/plain": [
       "           Bacterial Blight (CBB)  Brown Streak Disease (CBSD)  \\\n",
       "precision                0.757576                     0.847222   \n",
       "recall                   0.595238                     0.841379   \n",
       "f1-score                 0.666667                     0.844291   \n",
       "support                210.000000                   435.000000   \n",
       "\n",
       "           Green Mottle (CGM)  Mosaic Disease (CMD)     Healthy  accuracy  \\\n",
       "precision            0.834101              0.959191    0.729167  0.899042   \n",
       "recall               0.780172              0.976057    0.774648  0.899042   \n",
       "f1-score             0.806236              0.967551    0.751220  0.899042   \n",
       "support            464.000000           2673.000000  497.000000  0.899042   \n",
       "\n",
       "             macro avg  weighted avg  \n",
       "precision     0.825451      0.897632  \n",
       "recall        0.793499      0.899042  \n",
       "f1-score      0.807193      0.897635  \n",
       "support    4279.000000   4279.000000  "
      ]
     },
     "execution_count": 100,
     "metadata": {},
     "output_type": "execute_result"
    }
   ],
   "source": [
    "report = pd.DataFrame.from_dict(classification_report(oof['actual'], \n",
    "                                                      oof['prediction'],\n",
    "                                                      target_names=labels,\n",
    "                                                      output_dict=True))\n",
    "# report.to_csv('report.csv')\n",
    "report"
   ]
  }
 ],
 "metadata": {
  "kernelspec": {
   "display_name": "Python 3",
   "language": "python",
   "name": "python3"
  },
  "language_info": {
   "codemirror_mode": {
    "name": "ipython",
    "version": 3
   },
   "file_extension": ".py",
   "mimetype": "text/x-python",
   "name": "python",
   "nbconvert_exporter": "python",
   "pygments_lexer": "ipython3",
   "version": "3.7.6"
  },
  "papermill": {
   "duration": 67.688973,
   "end_time": "2021-01-22T00:59:57.489130",
   "environment_variables": {},
   "exception": null,
   "input_path": "__notebook__.ipynb",
   "output_path": "__notebook__.ipynb",
   "parameters": {},
   "start_time": "2021-01-22T00:58:49.800157",
   "version": "2.1.0"
  },
  "toc": {
   "base_numbering": 1,
   "nav_menu": {},
   "number_sections": false,
   "sideBar": true,
   "skip_h1_title": false,
   "title_cell": "Table of Contents",
   "title_sidebar": "Contents",
   "toc_cell": false,
   "toc_position": {},
   "toc_section_display": true,
   "toc_window_display": true
  }
 },
 "nbformat": 4,
 "nbformat_minor": 4
}
