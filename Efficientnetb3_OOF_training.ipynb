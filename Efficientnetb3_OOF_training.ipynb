{
 "cells": [
  {
   "cell_type": "code",
   "execution_count": 1,
   "metadata": {
    "ExecuteTime": {
     "end_time": "2021-01-27T08:26:01.731135Z",
     "start_time": "2021-01-27T08:25:56.898970Z"
    },
    "execution": {
     "iopub.execute_input": "2020-12-26T02:41:38.934463Z",
     "iopub.status.busy": "2020-12-26T02:41:38.933874Z",
     "iopub.status.idle": "2020-12-26T02:41:43.780509Z",
     "shell.execute_reply": "2020-12-26T02:41:43.779408Z"
    },
    "papermill": {
     "duration": 4.865324,
     "end_time": "2020-12-26T02:41:43.780625",
     "exception": false,
     "start_time": "2020-12-26T02:41:38.915301",
     "status": "completed"
    },
    "scrolled": true,
    "tags": []
   },
   "outputs": [],
   "source": [
    "import numpy as np\n",
    "import pandas as pd\n",
    "\n",
    "import os\n",
    "import glob\n",
    "import shutil\n",
    "import pickle\n",
    "import random\n",
    "from collections import Counter\n",
    "\n",
    "from sklearn.utils import shuffle\n",
    "\n",
    "import tensorflow as tf\n",
    "from keras import models, layers, optimizers\n",
    "from keras import backend as K\n",
    "from keras.preprocessing.image import ImageDataGenerator\n",
    "from keras.applications import VGG16, ResNet50, InceptionResNetV2\n",
    "from tensorflow.keras.applications import EfficientNetB3\n",
    "from keras.utils import to_categorical\n",
    "from keras.losses import CategoricalCrossentropy\n",
    "from tensorflow.keras.losses import categorical_crossentropy\n",
    "from tensorflow.keras.layers import Dense, Dropout, Activation, Input, BatchNormalization, GlobalAveragePooling2D, average\n",
    "from keras.optimizers import RMSprop, Adam, SGD\n",
    "from keras.callbacks import (ModelCheckpoint, EarlyStopping, \n",
    "                                        ReduceLROnPlateau)\n",
    "from tensorflow.keras.experimental import CosineDecay\n",
    "from keras import Model\n",
    "from PIL import Image\n",
    "\n",
    "from keras import backend as K\n",
    "import gc\n",
    "from sklearn.model_selection import KFold\n",
    "\n",
    "from itertools import combinations  \n",
    "from tqdm.notebook import tqdm"
   ]
  },
  {
   "cell_type": "code",
   "execution_count": 2,
   "metadata": {
    "ExecuteTime": {
     "end_time": "2021-01-27T08:29:36.931992Z",
     "start_time": "2021-01-27T08:29:35.976785Z"
    },
    "execution": {
     "iopub.execute_input": "2020-12-26T02:41:43.811001Z",
     "iopub.status.busy": "2020-12-26T02:41:43.810443Z",
     "iopub.status.idle": "2020-12-26T02:41:46.100290Z",
     "shell.execute_reply": "2020-12-26T02:41:46.099292Z"
    },
    "papermill": {
     "duration": 2.307705,
     "end_time": "2020-12-26T02:41:46.100406",
     "exception": false,
     "start_time": "2020-12-26T02:41:43.792701",
     "status": "completed"
    },
    "scrolled": true,
    "tags": []
   },
   "outputs": [],
   "source": [
    "# Set Seed for reproducible results\n",
    "seed_value= 0\n",
    "\n",
    "os.environ['PYTHONHASHSEED']=str(seed_value)\n",
    "\n",
    "random.seed(seed_value)\n",
    "np.random.seed(seed_value)\n",
    "tf.random.set_seed(seed_value)\n",
    "# for later versions: \n",
    "# tf.compat.v1.set_random_seed(seed_value)\n",
    "\n",
    "session_conf = tf.compat.v1.ConfigProto(intra_op_parallelism_threads=1, \n",
    "                                        inter_op_parallelism_threads=1)\n",
    "sess = tf.compat.v1.Session(graph=tf.compat.v1.get_default_graph(), \n",
    "                            config=session_conf)\n",
    "tf.compat.v1.keras.backend.set_session(sess)"
   ]
  },
  {
   "cell_type": "markdown",
   "metadata": {
    "papermill": {
     "duration": 0.011926,
     "end_time": "2020-12-26T02:41:46.124468",
     "exception": false,
     "start_time": "2020-12-26T02:41:46.112542",
     "status": "completed"
    },
    "tags": []
   },
   "source": [
    "### Import Data"
   ]
  },
  {
   "cell_type": "code",
   "execution_count": 4,
   "metadata": {
    "ExecuteTime": {
     "end_time": "2021-01-27T08:30:02.974772Z",
     "start_time": "2021-01-27T08:30:02.970007Z"
    },
    "execution": {
     "iopub.execute_input": "2020-12-26T02:41:46.152049Z",
     "iopub.status.busy": "2020-12-26T02:41:46.151418Z",
     "iopub.status.idle": "2020-12-26T02:41:46.156767Z",
     "shell.execute_reply": "2020-12-26T02:41:46.156304Z"
    },
    "papermill": {
     "duration": 0.020569,
     "end_time": "2020-12-26T02:41:46.156852",
     "exception": false,
     "start_time": "2020-12-26T02:41:46.136283",
     "status": "completed"
    },
    "scrolled": true,
    "tags": []
   },
   "outputs": [],
   "source": [
    "# Defining the working directories\n",
    "\n",
    "work_dir = 'cassava-leaf-disease-classification/'\n",
    "os.listdir(work_dir) \n",
    "train_path = 'cassava-leaf-disease-classification/train_images/'"
   ]
  },
  {
   "cell_type": "code",
   "execution_count": 5,
   "metadata": {
    "ExecuteTime": {
     "end_time": "2021-01-27T08:30:10.815915Z",
     "start_time": "2021-01-27T08:30:10.459343Z"
    },
    "execution": {
     "iopub.execute_input": "2020-12-26T02:41:46.184658Z",
     "iopub.status.busy": "2020-12-26T02:41:46.184034Z",
     "iopub.status.idle": "2020-12-26T02:41:46.399819Z",
     "shell.execute_reply": "2020-12-26T02:41:46.400252Z"
    },
    "papermill": {
     "duration": 0.231905,
     "end_time": "2020-12-26T02:41:46.400365",
     "exception": false,
     "start_time": "2020-12-26T02:41:46.168460",
     "status": "completed"
    },
    "tags": []
   },
   "outputs": [
    {
     "data": {
      "text/plain": [
       "{0: 'Cassava Bacterial Blight (CBB)',\n",
       " 1: 'Cassava Brown Streak Disease (CBSD)',\n",
       " 2: 'Cassava Green Mottle (CGM)',\n",
       " 3: 'Cassava Mosaic Disease (CMD)',\n",
       " 4: 'Healthy'}"
      ]
     },
     "execution_count": 5,
     "metadata": {},
     "output_type": "execute_result"
    }
   ],
   "source": [
    "mapping = pd.read_json(work_dir + 'label_num_to_disease_map.json', \n",
    "    lines=True\n",
    ").transpose()[0].to_dict()\n",
    "mapping"
   ]
  },
  {
   "cell_type": "code",
   "execution_count": 6,
   "metadata": {
    "ExecuteTime": {
     "end_time": "2021-01-27T08:30:14.543286Z",
     "start_time": "2021-01-27T08:30:14.505798Z"
    },
    "execution": {
     "iopub.execute_input": "2020-12-26T02:41:46.431532Z",
     "iopub.status.busy": "2020-12-26T02:41:46.431039Z",
     "iopub.status.idle": "2020-12-26T02:41:46.468213Z",
     "shell.execute_reply": "2020-12-26T02:41:46.468639Z"
    },
    "papermill": {
     "duration": 0.055684,
     "end_time": "2020-12-26T02:41:46.468785",
     "exception": false,
     "start_time": "2020-12-26T02:41:46.413101",
     "status": "completed"
    },
    "tags": []
   },
   "outputs": [
    {
     "name": "stdout",
     "output_type": "stream",
     "text": [
      "oof: 4279\n",
      "df: 17118\n"
     ]
    }
   ],
   "source": [
    "data = pd.read_csv(work_dir + '/train.csv')\n",
    "data = shuffle(data, random_state=42)\n",
    "data[\"filepath\"] = train_path+data[\"image_id\"]\n",
    "\n",
    "# split data into out-of-fold (oof) and training (df)\n",
    "oof_percentage = 0.2\n",
    "oof_count = int(len(data)*0.2)\n",
    "oof = data[:oof_count]\n",
    "df = data[oof_count:]\n",
    "\n",
    "oof.reset_index(inplace=True)\n",
    "df.reset_index(inplace=True)\n",
    "\n",
    "# sanity check\n",
    "print(f'oof: {len(oof)}')\n",
    "print(f'df: {len(df)}')"
   ]
  },
  {
   "cell_type": "code",
   "execution_count": 6,
   "metadata": {
    "ExecuteTime": {
     "end_time": "2021-01-26T05:36:12.594386Z",
     "start_time": "2021-01-26T05:36:12.591486Z"
    },
    "execution": {
     "iopub.execute_input": "2020-12-26T02:41:46.531275Z",
     "iopub.status.busy": "2020-12-26T02:41:46.530762Z",
     "iopub.status.idle": "2020-12-26T02:41:46.534444Z",
     "shell.execute_reply": "2020-12-26T02:41:46.534057Z"
    },
    "papermill": {
     "duration": 0.020381,
     "end_time": "2020-12-26T02:41:46.534523",
     "exception": false,
     "start_time": "2020-12-26T02:41:46.514142",
     "status": "completed"
    },
    "tags": []
   },
   "outputs": [],
   "source": [
    "BATCH_SIZE = 8\n",
    "image_size = 512\n",
    "input_shape = (image_size, image_size, 3)\n",
    "dropout_rate = 0.4\n",
    "classes_to_predict = 5"
   ]
  },
  {
   "cell_type": "code",
   "execution_count": 7,
   "metadata": {
    "ExecuteTime": {
     "end_time": "2021-01-26T05:36:12.850732Z",
     "start_time": "2021-01-26T05:36:12.597076Z"
    },
    "execution": {
     "iopub.execute_input": "2020-12-26T02:41:47.121022Z",
     "iopub.status.busy": "2020-12-26T02:41:47.120439Z",
     "iopub.status.idle": "2020-12-26T02:41:47.149944Z",
     "shell.execute_reply": "2020-12-26T02:41:47.149382Z"
    },
    "papermill": {
     "duration": 0.047859,
     "end_time": "2020-12-26T02:41:47.150041",
     "exception": false,
     "start_time": "2020-12-26T02:41:47.102182",
     "status": "completed"
    },
    "tags": []
   },
   "outputs": [],
   "source": [
    "data_augmentation_layers = tf.keras.Sequential(\n",
    "    [\n",
    "        layers.experimental.preprocessing.RandomCrop(height=image_size, width=image_size),\n",
    "        layers.experimental.preprocessing.RandomFlip(\"horizontal_and_vertical\"),\n",
    "        layers.experimental.preprocessing.RandomRotation(0.25),\n",
    "        layers.experimental.preprocessing.RandomZoom((-0.2, 0)),\n",
    "        layers.experimental.preprocessing.RandomContrast((0.2,0.2))\n",
    "    ]\n",
    ")"
   ]
  },
  {
   "cell_type": "markdown",
   "metadata": {
    "papermill": {
     "duration": 0.013701,
     "end_time": "2020-12-26T02:41:47.177471",
     "exception": false,
     "start_time": "2020-12-26T02:41:47.163770",
     "status": "completed"
    },
    "tags": []
   },
   "source": [
    "## Model Training"
   ]
  },
  {
   "cell_type": "markdown",
   "metadata": {},
   "source": [
    "#### Create Model"
   ]
  },
  {
   "cell_type": "code",
   "execution_count": 8,
   "metadata": {
    "ExecuteTime": {
     "end_time": "2021-01-26T05:36:12.856533Z",
     "start_time": "2021-01-26T05:36:12.852949Z"
    },
    "execution": {
     "iopub.execute_input": "2020-12-26T02:41:47.263212Z",
     "iopub.status.busy": "2020-12-26T02:41:47.262531Z",
     "iopub.status.idle": "2020-12-26T02:41:47.266122Z",
     "shell.execute_reply": "2020-12-26T02:41:47.265662Z"
    },
    "papermill": {
     "duration": 0.021251,
     "end_time": "2020-12-26T02:41:47.266203",
     "exception": false,
     "start_time": "2020-12-26T02:41:47.244952",
     "status": "completed"
    },
    "tags": []
   },
   "outputs": [],
   "source": [
    "augmentation = 'cassava-data-augmentation/augmentation'\n",
    "original = 'cassava-leaf-disease-classification/train_images'\n",
    "\n",
    "EPOCHS = 8\n",
    "\n",
    "def scce_with_ls(y, y_hat):\n",
    "    y = tf.one_hot(tf.cast(y, tf.int32), 5)\n",
    "    y = tf.squeeze(y, axis=1)\n",
    "    return categorical_crossentropy(y, y_hat, label_smoothing=0.3)\n",
    "\n",
    "LOSS = scce_with_ls"
   ]
  },
  {
   "cell_type": "code",
   "execution_count": 9,
   "metadata": {
    "ExecuteTime": {
     "end_time": "2021-01-26T05:36:12.865807Z",
     "start_time": "2021-01-26T05:36:12.858146Z"
    },
    "execution": {
     "iopub.execute_input": "2020-12-26T02:41:47.306425Z",
     "iopub.status.busy": "2020-12-26T02:41:47.301368Z",
     "iopub.status.idle": "2020-12-26T02:42:02.173252Z",
     "shell.execute_reply": "2020-12-26T02:42:02.172586Z"
    },
    "papermill": {
     "duration": 14.893535,
     "end_time": "2020-12-26T02:42:02.173365",
     "exception": false,
     "start_time": "2020-12-26T02:41:47.279830",
     "status": "completed"
    },
    "tags": []
   },
   "outputs": [],
   "source": [
    "def create_model():\n",
    "    conv_base = EfficientNetB3(weights='imagenet',\n",
    "                      include_top=False,\n",
    "                      input_shape=(input_shape)\n",
    "                     )\n",
    "\n",
    "    inputs = Input(shape=input_shape)\n",
    "    augmented = data_augmentation_layers(inputs)\n",
    "    conv_base = conv_base(augmented)\n",
    "    pooling = layers.GlobalAveragePooling2D()(conv_base)\n",
    "    dropout = layers.Dropout(dropout_rate)(pooling)\n",
    "    outputs = Dense(classes_to_predict, activation=\"softmax\")(dropout)\n",
    "    model = Model(inputs=inputs, outputs=outputs)\n",
    "\n",
    "    decay_steps = int(round(len(df)*0.8)/BATCH_SIZE)*EPOCHS\n",
    "    cosine_decay = CosineDecay(initial_learning_rate=1e-4,\n",
    "                               decay_steps=decay_steps, alpha=0.3)\n",
    "\n",
    "    model.compile(loss=LOSS,\n",
    "                  optimizer=tf.keras.optimizers.Adam(cosine_decay), \n",
    "                  metrics=[\"accuracy\"])\n",
    "    \n",
    "    return model"
   ]
  },
  {
   "cell_type": "markdown",
   "metadata": {},
   "source": [
    "#### Cross Validation Training"
   ]
  },
  {
   "cell_type": "code",
   "execution_count": 10,
   "metadata": {
    "ExecuteTime": {
     "end_time": "2021-01-26T05:36:12.873794Z",
     "start_time": "2021-01-26T05:36:12.867700Z"
    }
   },
   "outputs": [],
   "source": [
    "def load_image_and_label_from_path(image_path, label):\n",
    "    img = tf.io.read_file(image_path)\n",
    "    img = tf.image.decode_jpeg(img, channels=3)\n",
    "    return img, label"
   ]
  },
  {
   "cell_type": "code",
   "execution_count": 11,
   "metadata": {
    "ExecuteTime": {
     "end_time": "2021-01-26T05:36:12.889461Z",
     "start_time": "2021-01-26T05:36:12.875754Z"
    }
   },
   "outputs": [],
   "source": [
    "def train_cross_validate(folds=5):\n",
    "    histories = []\n",
    "    models = []\n",
    "    \n",
    "    kfold = KFold(folds, shuffle=True, random_state=42)\n",
    "    \n",
    "    for fold, (trn_ind, val_ind) in enumerate(kfold.split(df)):\n",
    "        \n",
    "        # Free up Memory\n",
    "        gc.collect()\n",
    "        K.clear_session()\n",
    "        \n",
    "        print(f'\\nFold: {fold}')\n",
    "        \n",
    "        # Load datasets\n",
    "        training_df = df.loc[trn_ind]\n",
    "        validation_df = df.loc[val_ind]\n",
    "       \n",
    "        training_data = tf.data.Dataset.from_tensor_slices(\n",
    "            (training_df.filepath.values, training_df.label.values))\n",
    "        validation_data = tf.data.Dataset.from_tensor_slices(\n",
    "            (validation_df.filepath.values, validation_df.label.values))\n",
    "        \n",
    "        AUTOTUNE = tf.data.experimental.AUTOTUNE\n",
    "        \n",
    "        training_data = training_data.map(\n",
    "            load_image_and_label_from_path, num_parallel_calls=AUTOTUNE)\n",
    "        validation_data = validation_data.map(\n",
    "            load_image_and_label_from_path, num_parallel_calls=AUTOTUNE)\n",
    "        \n",
    "        training_data_batches = (training_data\n",
    "                                 .shuffle(buffer_size=1000)\n",
    "                                 .batch(BATCH_SIZE)\n",
    "                                 .prefetch(buffer_size=AUTOTUNE))\n",
    "        validation_data_batches = (validation_data\n",
    "                                   .shuffle(buffer_size=1000)\n",
    "                                   .batch(BATCH_SIZE)\n",
    "                                   .prefetch(buffer_size=AUTOTUNE))\n",
    "        \n",
    "        \n",
    "        # Setup Callbacks\n",
    "        checkpoint_name = 'efficientnetb3-CV-ls_0.3_oof_'+str(fold)+'.h5'        \n",
    "        callbacks = [ModelCheckpoint(\n",
    "            filepath=checkpoint_name, \n",
    "            monitor='val_loss', \n",
    "            save_best_only=True)]\n",
    "        \n",
    "        # Get model and start training\n",
    "        model = create_model()      \n",
    "        history = model.fit(training_data_batches,\n",
    "                            epochs = EPOCHS, \n",
    "                            validation_data=validation_data_batches,\n",
    "                            callbacks=callbacks, \n",
    "                            batch_size=BATCH_SIZE)\n",
    "        \n",
    "        print('Load best weights for model prediction')\n",
    "        model.load_weights(checkpoint_name)\n",
    "        models.append(model)\n",
    "        histories.append(history)\n",
    "\n",
    "    return histories, models"
   ]
  },
  {
   "cell_type": "code",
   "execution_count": 12,
   "metadata": {
    "ExecuteTime": {
     "end_time": "2021-01-26T16:45:10.634775Z",
     "start_time": "2021-01-26T05:36:12.895242Z"
    },
    "scrolled": false
   },
   "outputs": [
    {
     "name": "stdout",
     "output_type": "stream",
     "text": [
      "\n",
      "Fold: 0\n",
      "Epoch 1/8\n",
      "1712/1712 [==============================] - 1018s 583ms/step - loss: 1.2157 - accuracy: 0.7343 - val_loss: 1.0637 - val_accuracy: 0.8659\n",
      "Epoch 2/8\n",
      "1712/1712 [==============================] - 1001s 583ms/step - loss: 1.0837 - accuracy: 0.8503 - val_loss: 1.0455 - val_accuracy: 0.8744\n",
      "Epoch 3/8\n",
      "1712/1712 [==============================] - 999s 582ms/step - loss: 1.0595 - accuracy: 0.8685 - val_loss: 1.0372 - val_accuracy: 0.8855\n",
      "Epoch 4/8\n",
      "1712/1712 [==============================] - 996s 580ms/step - loss: 1.0464 - accuracy: 0.8756 - val_loss: 1.0348 - val_accuracy: 0.8817\n",
      "Epoch 5/8\n",
      "1712/1712 [==============================] - 998s 581ms/step - loss: 1.0321 - accuracy: 0.8877 - val_loss: 1.0368 - val_accuracy: 0.8841\n",
      "Epoch 6/8\n",
      "1712/1712 [==============================] - 1000s 582ms/step - loss: 1.0183 - accuracy: 0.8978 - val_loss: 1.0347 - val_accuracy: 0.8823\n",
      "Epoch 7/8\n",
      "1712/1712 [==============================] - 999s 582ms/step - loss: 1.0099 - accuracy: 0.9043 - val_loss: 1.0341 - val_accuracy: 0.8803\n",
      "Epoch 8/8\n",
      "1712/1712 [==============================] - 999s 582ms/step - loss: 1.0012 - accuracy: 0.9130 - val_loss: 1.0348 - val_accuracy: 0.8843\n",
      "Load best weights for model prediction\n",
      "\n",
      "Fold: 1\n",
      "Epoch 1/8\n",
      "1712/1712 [==============================] - 1013s 583ms/step - loss: 1.2076 - accuracy: 0.7427 - val_loss: 1.0719 - val_accuracy: 0.8569\n",
      "Epoch 2/8\n",
      "1712/1712 [==============================] - 998s 581ms/step - loss: 1.0823 - accuracy: 0.8526 - val_loss: 1.0569 - val_accuracy: 0.8657\n",
      "Epoch 3/8\n",
      "1712/1712 [==============================] - 998s 581ms/step - loss: 1.0605 - accuracy: 0.8701 - val_loss: 1.0470 - val_accuracy: 0.8724\n",
      "Epoch 4/8\n",
      "1712/1712 [==============================] - 998s 581ms/step - loss: 1.0388 - accuracy: 0.8815 - val_loss: 1.0476 - val_accuracy: 0.8703\n",
      "Epoch 5/8\n",
      "1712/1712 [==============================] - 999s 582ms/step - loss: 1.0287 - accuracy: 0.8918 - val_loss: 1.0379 - val_accuracy: 0.8773\n",
      "Epoch 6/8\n",
      "1712/1712 [==============================] - 998s 581ms/step - loss: 1.0200 - accuracy: 0.8992 - val_loss: 1.0361 - val_accuracy: 0.8788\n",
      "Epoch 7/8\n",
      "1712/1712 [==============================] - 1001s 583ms/step - loss: 1.0071 - accuracy: 0.9102 - val_loss: 1.0302 - val_accuracy: 0.8867\n",
      "Epoch 8/8\n",
      "1712/1712 [==============================] - 998s 581ms/step - loss: 0.9992 - accuracy: 0.9134 - val_loss: 1.0296 - val_accuracy: 0.8890\n",
      "Load best weights for model prediction\n",
      "\n",
      "Fold: 2\n",
      "Epoch 1/8\n",
      "1712/1712 [==============================] - 1014s 582ms/step - loss: 1.2084 - accuracy: 0.7405 - val_loss: 1.0544 - val_accuracy: 0.8695\n",
      "Epoch 2/8\n",
      "1712/1712 [==============================] - 997s 580ms/step - loss: 1.0899 - accuracy: 0.8443 - val_loss: 1.0413 - val_accuracy: 0.8776\n",
      "Epoch 3/8\n",
      "1712/1712 [==============================] - 999s 582ms/step - loss: 1.0613 - accuracy: 0.8686 - val_loss: 1.0377 - val_accuracy: 0.8803\n",
      "Epoch 4/8\n",
      "1712/1712 [==============================] - 1000s 582ms/step - loss: 1.0442 - accuracy: 0.8781 - val_loss: 1.0422 - val_accuracy: 0.8805\n",
      "Epoch 5/8\n",
      "1712/1712 [==============================] - 998s 581ms/step - loss: 1.0332 - accuracy: 0.8879 - val_loss: 1.0302 - val_accuracy: 0.8908\n",
      "Epoch 6/8\n",
      "1712/1712 [==============================] - 996s 580ms/step - loss: 1.0205 - accuracy: 0.8967 - val_loss: 1.0303 - val_accuracy: 0.8826\n",
      "Epoch 7/8\n",
      "1712/1712 [==============================] - 1000s 582ms/step - loss: 1.0101 - accuracy: 0.9033 - val_loss: 1.0280 - val_accuracy: 0.8843\n",
      "Epoch 8/8\n",
      "1712/1712 [==============================] - 998s 581ms/step - loss: 1.0052 - accuracy: 0.9079 - val_loss: 1.0308 - val_accuracy: 0.8811\n",
      "Load best weights for model prediction\n",
      "\n",
      "Fold: 3\n",
      "Epoch 1/8\n",
      "1712/1712 [==============================] - 1015s 584ms/step - loss: 1.2124 - accuracy: 0.7349 - val_loss: 1.0656 - val_accuracy: 0.8680\n",
      "Epoch 2/8\n",
      "1712/1712 [==============================] - 997s 581ms/step - loss: 1.0778 - accuracy: 0.8518 - val_loss: 1.0492 - val_accuracy: 0.8680\n",
      "Epoch 3/8\n",
      "1712/1712 [==============================] - 1000s 582ms/step - loss: 1.0621 - accuracy: 0.8678 - val_loss: 1.0409 - val_accuracy: 0.8694\n",
      "Epoch 4/8\n",
      "1712/1712 [==============================] - 999s 582ms/step - loss: 1.0379 - accuracy: 0.8818 - val_loss: 1.0393 - val_accuracy: 0.8709\n",
      "Epoch 5/8\n",
      "1712/1712 [==============================] - 997s 581ms/step - loss: 1.0298 - accuracy: 0.8923 - val_loss: 1.0413 - val_accuracy: 0.8720\n",
      "Epoch 6/8\n",
      "1712/1712 [==============================] - 1000s 583ms/step - loss: 1.0149 - accuracy: 0.9013 - val_loss: 1.0345 - val_accuracy: 0.8785\n",
      "Epoch 7/8\n",
      "1712/1712 [==============================] - 1000s 582ms/step - loss: 1.0074 - accuracy: 0.9062 - val_loss: 1.0366 - val_accuracy: 0.8799\n",
      "Epoch 8/8\n",
      "1712/1712 [==============================] - 1000s 582ms/step - loss: 0.9975 - accuracy: 0.9162 - val_loss: 1.0314 - val_accuracy: 0.8831\n",
      "Load best weights for model prediction\n",
      "\n",
      "Fold: 4\n",
      "Epoch 1/8\n",
      "1712/1712 [==============================] - 1019s 586ms/step - loss: 1.2098 - accuracy: 0.7460 - val_loss: 1.0616 - val_accuracy: 0.8618\n",
      "Epoch 2/8\n",
      "1712/1712 [==============================] - 1001s 583ms/step - loss: 1.0789 - accuracy: 0.8530 - val_loss: 1.0551 - val_accuracy: 0.8682\n",
      "Epoch 3/8\n",
      "1712/1712 [==============================] - 1000s 583ms/step - loss: 1.0557 - accuracy: 0.8683 - val_loss: 1.0467 - val_accuracy: 0.8747\n",
      "Epoch 4/8\n",
      "1712/1712 [==============================] - 999s 582ms/step - loss: 1.0366 - accuracy: 0.8840 - val_loss: 1.0418 - val_accuracy: 0.8741\n",
      "Epoch 5/8\n",
      "1712/1712 [==============================] - 1005s 585ms/step - loss: 1.0297 - accuracy: 0.8900 - val_loss: 1.0386 - val_accuracy: 0.8782\n",
      "Epoch 6/8\n",
      "1712/1712 [==============================] - 1000s 582ms/step - loss: 1.0145 - accuracy: 0.8989 - val_loss: 1.0366 - val_accuracy: 0.8791\n",
      "Epoch 7/8\n",
      "1712/1712 [==============================] - 1004s 584ms/step - loss: 1.0053 - accuracy: 0.9095 - val_loss: 1.0370 - val_accuracy: 0.8785\n",
      "Epoch 8/8\n",
      "1712/1712 [==============================] - 999s 581ms/step - loss: 1.0000 - accuracy: 0.9105 - val_loss: 1.0347 - val_accuracy: 0.8820\n",
      "Load best weights for model prediction\n"
     ]
    }
   ],
   "source": [
    "histories, models = train_cross_validate()"
   ]
  }
 ],
 "metadata": {
  "kernelspec": {
   "display_name": "Python 3",
   "language": "python",
   "name": "python3"
  },
  "language_info": {
   "codemirror_mode": {
    "name": "ipython",
    "version": 3
   },
   "file_extension": ".py",
   "mimetype": "text/x-python",
   "name": "python",
   "nbconvert_exporter": "python",
   "pygments_lexer": "ipython3",
   "version": "3.7.6"
  },
  "papermill": {
   "duration": 9319.893985,
   "end_time": "2020-12-26T05:16:54.863734",
   "environment_variables": {},
   "exception": null,
   "input_path": "__notebook__.ipynb",
   "output_path": "__notebook__.ipynb",
   "parameters": {},
   "start_time": "2020-12-26T02:41:34.969749",
   "version": "2.1.0"
  },
  "toc": {
   "base_numbering": 1,
   "nav_menu": {},
   "number_sections": false,
   "sideBar": true,
   "skip_h1_title": false,
   "title_cell": "Table of Contents",
   "title_sidebar": "Contents",
   "toc_cell": false,
   "toc_position": {},
   "toc_section_display": true,
   "toc_window_display": true
  }
 },
 "nbformat": 4,
 "nbformat_minor": 4
}
