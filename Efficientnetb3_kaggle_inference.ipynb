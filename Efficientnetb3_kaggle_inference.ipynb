{
 "cells": [
  {
   "cell_type": "markdown",
   "metadata": {},
   "source": [
    "This is a submission notebook for the Kaggle competition [Cassava Leaf Disease Classification](https://www.kaggle.com/c/cassava-leaf-disease-classification?rvi=1)."
   ]
  },
  {
   "cell_type": "markdown",
   "metadata": {
    "papermill": {
     "duration": 0.011452,
     "end_time": "2021-01-22T00:58:53.614492",
     "exception": false,
     "start_time": "2021-01-22T00:58:53.603040",
     "status": "completed"
    },
    "tags": []
   },
   "source": [
    "### Import Libraries and TensforFlow Setup"
   ]
  },
  {
   "cell_type": "code",
   "execution_count": 1,
   "metadata": {
    "execution": {
     "iopub.execute_input": "2021-01-22T00:58:53.645648Z",
     "iopub.status.busy": "2021-01-22T00:58:53.644948Z",
     "iopub.status.idle": "2021-01-22T00:58:58.628437Z",
     "shell.execute_reply": "2021-01-22T00:58:58.627013Z"
    },
    "papermill": {
     "duration": 5.003532,
     "end_time": "2021-01-22T00:58:58.628554",
     "exception": false,
     "start_time": "2021-01-22T00:58:53.625022",
     "status": "completed"
    },
    "tags": []
   },
   "outputs": [],
   "source": [
    "import numpy as np\n",
    "import pandas as pd\n",
    "import os, glob, shutil, pickle, random, gc\n",
    "from collections import Counter\n",
    "from PIL import Image\n",
    "from sklearn.utils import shuffle\n",
    "from sklearn.model_selection import KFold\n",
    "\n",
    "import tensorflow as tf\n",
    "from keras import models, layers, optimizers\n",
    "from keras import backend as K\n",
    "from keras.preprocessing.image import ImageDataGenerator\n",
    "from keras.optimizers import Adam\n",
    "from keras.callbacks import ModelCheckpoint\n",
    "from keras import Model\n",
    "\n",
    "from tensorflow.keras.experimental import CosineDecay\n",
    "from tensorflow.keras.applications import EfficientNetB3\n",
    "from tensorflow.keras.losses import categorical_crossentropy\n",
    "from tensorflow.keras.layers import (Dense, Dropout, Activation, Input, \n",
    "                                     GlobalAveragePooling2D, average, add, \n",
    "                                     maximum)\n",
    "\n",
    "from tqdm import tqdm"
   ]
  },
  {
   "cell_type": "markdown",
   "metadata": {
    "papermill": {
     "duration": 0.010425,
     "end_time": "2021-01-22T00:58:58.649797",
     "exception": false,
     "start_time": "2021-01-22T00:58:58.639372",
     "status": "completed"
    },
    "tags": []
   },
   "source": [
    "### Recreate Model and load weights"
   ]
  },
  {
   "cell_type": "markdown",
   "metadata": {},
   "source": [
    "#### Parameters"
   ]
  },
  {
   "cell_type": "code",
   "execution_count": 2,
   "metadata": {
    "execution": {
     "iopub.execute_input": "2021-01-22T00:58:58.678303Z",
     "iopub.status.busy": "2021-01-22T00:58:58.677773Z",
     "iopub.status.idle": "2021-01-22T00:58:58.686598Z",
     "shell.execute_reply": "2021-01-22T00:58:58.686115Z"
    },
    "papermill": {
     "duration": 0.026503,
     "end_time": "2021-01-22T00:58:58.686683",
     "exception": false,
     "start_time": "2021-01-22T00:58:58.660180",
     "status": "completed"
    },
    "tags": []
   },
   "outputs": [],
   "source": [
    "N_CLASSES = 5\n",
    "IMAGE_SIZE = 512\n",
    "INPUT_SHAPE = (IMAGE_SIZE, IMAGE_SIZE, 3)\n",
    "EPOCHS = 8\n",
    "TARGET_SIZE = INPUT_SHAPE\n",
    "DROPOUT = 0.4"
   ]
  },
  {
   "cell_type": "markdown",
   "metadata": {},
   "source": [
    "#### Loading models of EfficientNetB3"
   ]
  },
  {
   "cell_type": "code",
   "execution_count": 3,
   "metadata": {
    "execution": {
     "iopub.execute_input": "2021-01-22T00:58:58.714341Z",
     "iopub.status.busy": "2021-01-22T00:58:58.713666Z",
     "iopub.status.idle": "2021-01-22T00:58:58.716652Z",
     "shell.execute_reply": "2021-01-22T00:58:58.716205Z"
    },
    "papermill": {
     "duration": 0.019197,
     "end_time": "2021-01-22T00:58:58.716729",
     "exception": false,
     "start_time": "2021-01-22T00:58:58.697532",
     "status": "completed"
    },
    "tags": []
   },
   "outputs": [],
   "source": [
    "def create_model():\n",
    "    conv_base = EfficientNetB3(weights='imagenet',\n",
    "                               include_top=False,\n",
    "                               input_shape=(INPUT_SHAPE))\n",
    "\n",
    "    inputs = Input(shape=INPUT_SHAPE)\n",
    "    conv_base = conv_base(inputs)\n",
    "    pooling = layers.GlobalAveragePooling2D()(conv_base)\n",
    "    dropout = layers.Dropout(DROPOUT)(pooling)\n",
    "    outputs = Dense(N_CLASSES, activation=\"softmax\")(dropout)\n",
    "    model = Model(inputs=inputs, outputs=outputs)\n",
    "    \n",
    "    return model"
   ]
  },
  {
   "cell_type": "code",
   "execution_count": 4,
   "metadata": {
    "execution": {
     "iopub.execute_input": "2021-01-22T00:58:58.742960Z",
     "iopub.status.busy": "2021-01-22T00:58:58.742470Z",
     "iopub.status.idle": "2021-01-22T00:59:40.926013Z",
     "shell.execute_reply": "2021-01-22T00:59:40.924922Z"
    },
    "papermill": {
     "duration": 42.199283,
     "end_time": "2021-01-22T00:59:40.926129",
     "exception": false,
     "start_time": "2021-01-22T00:58:58.726846",
     "status": "completed"
    },
    "tags": []
   },
   "outputs": [],
   "source": [
    "models = []\n",
    "\n",
    "model_1 = create_model()\n",
    "model_2 = create_model()\n",
    "model_3 = create_model()\n",
    "model_4 = create_model()\n",
    "model_5 = create_model()\n",
    "\n",
    "model_1.load_weights(\"efficientnetb3-CV-ls_0.3_0.h5\")\n",
    "model_2.load_weights(\"efficientnetb3-CV-ls_0.3_1.h5\")\n",
    "model_3.load_weights(\"efficientnetb3-CV-ls_0.3_2.h5\")\n",
    "model_4.load_weights(\"efficientnetb3-CV-ls_0.3_3.h5\")\n",
    "model_5.load_weights(\"efficientnetb3-CV-ls_0.3_4.h5\")\n",
    "\n",
    "model_1._name = 'model_1'\n",
    "model_2._name = 'model_2'\n",
    "model_3._name = 'model_3'\n",
    "model_4._name = 'model_4'\n",
    "model_5._name = 'model_5'"
   ]
  },
  {
   "cell_type": "code",
   "execution_count": 5,
   "metadata": {
    "execution": {
     "iopub.execute_input": "2021-01-22T00:59:40.952828Z",
     "iopub.status.busy": "2021-01-22T00:59:40.951020Z",
     "iopub.status.idle": "2021-01-22T00:59:40.953432Z",
     "shell.execute_reply": "2021-01-22T00:59:40.953838Z"
    },
    "papermill": {
     "duration": 0.017106,
     "end_time": "2021-01-22T00:59:40.953937",
     "exception": false,
     "start_time": "2021-01-22T00:59:40.936831",
     "status": "completed"
    },
    "tags": []
   },
   "outputs": [],
   "source": [
    "models = [model_1, model_2, model_3, model_4, model_5]"
   ]
  },
  {
   "cell_type": "markdown",
   "metadata": {},
   "source": [
    "#### Test Time Augmentation"
   ]
  },
  {
   "cell_type": "code",
   "execution_count": 6,
   "metadata": {
    "execution": {
     "iopub.execute_input": "2021-01-22T00:59:41.005705Z",
     "iopub.status.busy": "2021-01-22T00:59:41.004843Z",
     "iopub.status.idle": "2021-01-22T00:59:41.017980Z",
     "shell.execute_reply": "2021-01-22T00:59:41.016767Z"
    },
    "papermill": {
     "duration": 0.032972,
     "end_time": "2021-01-22T00:59:41.018068",
     "exception": false,
     "start_time": "2021-01-22T00:59:40.985096",
     "status": "completed"
    },
    "tags": []
   },
   "outputs": [],
   "source": [
    "test_time_augmentation_layers = tf.keras.Sequential(\n",
    "    [layers.experimental.preprocessing.CenterCrop(512, 512),\n",
    "     layers.experimental.preprocessing.RandomFlip(\"horizontal_and_vertical\"),\n",
    "     layers.experimental.preprocessing.RandomZoom((-0.3, 0.3)),\n",
    "     layers.experimental.preprocessing.RandomContrast((0.5,0.5)),\n",
    "     layers.experimental.preprocessing.Normalization()]\n",
    ")"
   ]
  },
  {
   "cell_type": "markdown",
   "metadata": {
    "ExecuteTime": {
     "end_time": "2021-01-26T06:17:16.260454Z",
     "start_time": "2021-01-26T06:17:16.255378Z"
    }
   },
   "source": [
    "### Predict on Sample Test Set"
   ]
  },
  {
   "cell_type": "markdown",
   "metadata": {},
   "source": [
    "#### Helper Functions"
   ]
  },
  {
   "cell_type": "code",
   "execution_count": 7,
   "metadata": {
    "execution": {
     "iopub.execute_input": "2021-01-22T00:59:41.046525Z",
     "iopub.status.busy": "2021-01-22T00:59:41.045849Z",
     "iopub.status.idle": "2021-01-22T00:59:41.049437Z",
     "shell.execute_reply": "2021-01-22T00:59:41.048924Z"
    },
    "papermill": {
     "duration": 0.021146,
     "end_time": "2021-01-22T00:59:41.049516",
     "exception": false,
     "start_time": "2021-01-22T00:59:41.028370",
     "status": "completed"
    },
    "tags": []
   },
   "outputs": [],
   "source": [
    "def scan_over_image(img_path, crop_size=512):\n",
    "    '''\n",
    "    Will extract 512x512 images covering the whole original image\n",
    "    with some overlap between images\n",
    "    '''\n",
    "    \n",
    "    img = Image.open(img_path)\n",
    "    img_height, img_width = img.size\n",
    "    img = np.array(img)\n",
    "    \n",
    "    y = random.randint(0,img_height-crop_size)\n",
    "    x = random.randint(0,img_width-crop_size)\n",
    "\n",
    "    x_img_origins = [0,img_width-crop_size]\n",
    "    y_img_origins = [0,img_height-crop_size]\n",
    "    img_list = []\n",
    "    for x in x_img_origins:\n",
    "        for y in y_img_origins:\n",
    "            img_list.append(img[x:x+crop_size , y:y+crop_size,:])\n",
    "  \n",
    "    return np.array(img_list)"
   ]
  },
  {
   "cell_type": "code",
   "execution_count": 8,
   "metadata": {
    "execution": {
     "iopub.execute_input": "2021-01-22T00:59:41.080441Z",
     "iopub.status.busy": "2021-01-22T00:59:41.079282Z",
     "iopub.status.idle": "2021-01-22T00:59:41.082120Z",
     "shell.execute_reply": "2021-01-22T00:59:41.081729Z"
    },
    "papermill": {
     "duration": 0.021761,
     "end_time": "2021-01-22T00:59:41.082199",
     "exception": false,
     "start_time": "2021-01-22T00:59:41.060438",
     "status": "completed"
    },
    "tags": []
   },
   "outputs": [],
   "source": [
    "def predict_and_vote(image_filename, folder, TTA_runs=4):\n",
    "    \"\"\"\n",
    "    Run all models over 4 local areas of the given image,\n",
    "    before making a decision depending on the most predicted\n",
    "    disease.\n",
    "    \"\"\"\n",
    "    \n",
    "    model_predictions = []\n",
    "    \n",
    "    for model in models:\n",
    "        # apply TTA to each of the 4 images and sum all predictions for each \n",
    "        # local image\n",
    "        localised_predictions = []\n",
    "        local_image_list = scan_over_image(folder+image_filename)\n",
    "        for local_image in local_image_list:\n",
    "            local_image = tf.expand_dims(local_image,0)\n",
    "            augmented_images = [test_time_augmentation_layers(local_image) \n",
    "                                for i in range(TTA_runs)]\n",
    "            predictions = model.predict(np.array(augmented_images[0]))\n",
    "            localised_predictions.append(np.sum(predictions, axis=0))\n",
    "\n",
    "        # sum predictions from all 4 images and retrieve the index of the \n",
    "        # highest value\n",
    "        global_predictions = np.sum(np.array(localised_predictions),axis=0)\n",
    "        model_predictions += [global_predictions]\n",
    "        \n",
    "    global_predictions = np.sum(np.array(model_predictions),axis=0)\n",
    "    final_prediction = np.argmax(global_predictions)\n",
    "    \n",
    "    return final_prediction"
   ]
  },
  {
   "cell_type": "code",
   "execution_count": 9,
   "metadata": {
    "execution": {
     "iopub.execute_input": "2021-01-22T00:59:41.108939Z",
     "iopub.status.busy": "2021-01-22T00:59:41.108425Z",
     "iopub.status.idle": "2021-01-22T00:59:41.112193Z",
     "shell.execute_reply": "2021-01-22T00:59:41.111801Z"
    },
    "papermill": {
     "duration": 0.01876,
     "end_time": "2021-01-22T00:59:41.112323",
     "exception": false,
     "start_time": "2021-01-22T00:59:41.093563",
     "status": "completed"
    },
    "tags": []
   },
   "outputs": [],
   "source": [
    "def run_predictions_over_image_list(image_list, folder):\n",
    "    \"\"\"\n",
    "    Accepts image filenames and folder, iterates prediction over all images,\n",
    "    and returns the predictions.\n",
    "    \"\"\"\n",
    "    \n",
    "    predictions = []\n",
    "    with tqdm(total=len(image_list)) as pbar:\n",
    "        for image_filename in image_list:\n",
    "            pbar.update(1)\n",
    "            predictions.append(predict_and_vote(image_filename, folder, 4))\n",
    "    return predictions"
   ]
  },
  {
   "cell_type": "markdown",
   "metadata": {},
   "source": [
    "#### Run Predictions"
   ]
  },
  {
   "cell_type": "markdown",
   "metadata": {},
   "source": [
    "For a successful inference, add the competition's dataset as an input.\n",
    "Predictions should be ran on all images on `test_images` folder.  \n",
    "Only a single test image is provided, but the folder will be populated with the test images once submitted.\n",
    "\n",
    "The final output should be a csv containing the columns `label` and `image_id`."
   ]
  },
  {
   "cell_type": "code",
   "execution_count": 10,
   "metadata": {
    "execution": {
     "iopub.execute_input": "2021-01-22T00:59:41.141491Z",
     "iopub.status.busy": "2021-01-22T00:59:41.140912Z",
     "iopub.status.idle": "2021-01-22T00:59:41.151507Z",
     "shell.execute_reply": "2021-01-22T00:59:41.151930Z"
    },
    "papermill": {
     "duration": 0.029087,
     "end_time": "2021-01-22T00:59:41.152024",
     "exception": false,
     "start_time": "2021-01-22T00:59:41.122937",
     "status": "completed"
    },
    "tags": []
   },
   "outputs": [],
   "source": [
    "test_folder = '../input/cassava-leaf-disease-classification/test_images/'\n",
    "submission_df = pd.DataFrame(columns={\"image_id\",\"label\"})\n",
    "submission_df[\"image_id\"] =  os.listdir(test_folder)\n",
    "submission_df[\"label\"] = 0"
   ]
  },
  {
   "cell_type": "code",
   "execution_count": 11,
   "metadata": {
    "execution": {
     "iopub.execute_input": "2021-01-22T00:59:41.181702Z",
     "iopub.status.busy": "2021-01-22T00:59:41.181157Z",
     "iopub.status.idle": "2021-01-22T00:59:41.189926Z",
     "shell.execute_reply": "2021-01-22T00:59:41.189457Z"
    },
    "papermill": {
     "duration": 0.027244,
     "end_time": "2021-01-22T00:59:41.190008",
     "exception": false,
     "start_time": "2021-01-22T00:59:41.162764",
     "status": "completed"
    },
    "tags": []
   },
   "outputs": [
    {
     "data": {
      "text/html": [
       "<div>\n",
       "<style scoped>\n",
       "    .dataframe tbody tr th:only-of-type {\n",
       "        vertical-align: middle;\n",
       "    }\n",
       "\n",
       "    .dataframe tbody tr th {\n",
       "        vertical-align: top;\n",
       "    }\n",
       "\n",
       "    .dataframe thead th {\n",
       "        text-align: right;\n",
       "    }\n",
       "</style>\n",
       "<table border=\"1\" class=\"dataframe\">\n",
       "  <thead>\n",
       "    <tr style=\"text-align: right;\">\n",
       "      <th></th>\n",
       "      <th>label</th>\n",
       "      <th>image_id</th>\n",
       "    </tr>\n",
       "  </thead>\n",
       "  <tbody>\n",
       "    <tr>\n",
       "      <th>0</th>\n",
       "      <td>0</td>\n",
       "      <td>2216849948.jpg</td>\n",
       "    </tr>\n",
       "  </tbody>\n",
       "</table>\n",
       "</div>"
      ],
      "text/plain": [
       "   label        image_id\n",
       "0      0  2216849948.jpg"
      ]
     },
     "execution_count": 11,
     "metadata": {},
     "output_type": "execute_result"
    }
   ],
   "source": [
    "submission_df"
   ]
  },
  {
   "cell_type": "code",
   "execution_count": 12,
   "metadata": {
    "execution": {
     "iopub.execute_input": "2021-01-22T00:59:41.217659Z",
     "iopub.status.busy": "2021-01-22T00:59:41.216460Z",
     "iopub.status.idle": "2021-01-22T00:59:55.465882Z",
     "shell.execute_reply": "2021-01-22T00:59:55.466591Z"
    },
    "papermill": {
     "duration": 14.265473,
     "end_time": "2021-01-22T00:59:55.466789",
     "exception": false,
     "start_time": "2021-01-22T00:59:41.201316",
     "status": "completed"
    },
    "scrolled": true,
    "tags": []
   },
   "outputs": [
    {
     "name": "stderr",
     "output_type": "stream",
     "text": [
      "100%|██████████| 1/1 [00:14<00:00, 14.24s/it]\n"
     ]
    }
   ],
   "source": [
    "submission_df[\"label\"] = run_predictions_over_image_list(submission_df[\"image_id\"], test_folder)"
   ]
  },
  {
   "cell_type": "markdown",
   "metadata": {},
   "source": [
    "The progress bar above shows that the prediction takes ~14 seconds per image."
   ]
  },
  {
   "cell_type": "code",
   "execution_count": 13,
   "metadata": {
    "execution": {
     "iopub.execute_input": "2021-01-22T00:59:55.531026Z",
     "iopub.status.busy": "2021-01-22T00:59:55.529286Z",
     "iopub.status.idle": "2021-01-22T00:59:55.534294Z",
     "shell.execute_reply": "2021-01-22T00:59:55.534734Z"
    },
    "papermill": {
     "duration": 0.043173,
     "end_time": "2021-01-22T00:59:55.534842",
     "exception": false,
     "start_time": "2021-01-22T00:59:55.491669",
     "status": "completed"
    },
    "tags": []
   },
   "outputs": [
    {
     "data": {
      "text/html": [
       "<div>\n",
       "<style scoped>\n",
       "    .dataframe tbody tr th:only-of-type {\n",
       "        vertical-align: middle;\n",
       "    }\n",
       "\n",
       "    .dataframe tbody tr th {\n",
       "        vertical-align: top;\n",
       "    }\n",
       "\n",
       "    .dataframe thead th {\n",
       "        text-align: right;\n",
       "    }\n",
       "</style>\n",
       "<table border=\"1\" class=\"dataframe\">\n",
       "  <thead>\n",
       "    <tr style=\"text-align: right;\">\n",
       "      <th></th>\n",
       "      <th>label</th>\n",
       "      <th>image_id</th>\n",
       "    </tr>\n",
       "  </thead>\n",
       "  <tbody>\n",
       "    <tr>\n",
       "      <th>0</th>\n",
       "      <td>4</td>\n",
       "      <td>2216849948.jpg</td>\n",
       "    </tr>\n",
       "  </tbody>\n",
       "</table>\n",
       "</div>"
      ],
      "text/plain": [
       "   label        image_id\n",
       "0      4  2216849948.jpg"
      ]
     },
     "execution_count": 13,
     "metadata": {},
     "output_type": "execute_result"
    }
   ],
   "source": [
    "submission_df"
   ]
  },
  {
   "cell_type": "code",
   "execution_count": 14,
   "metadata": {
    "execution": {
     "iopub.execute_input": "2021-01-22T00:59:55.588074Z",
     "iopub.status.busy": "2021-01-22T00:59:55.587012Z",
     "iopub.status.idle": "2021-01-22T00:59:55.839122Z",
     "shell.execute_reply": "2021-01-22T00:59:55.837906Z"
    },
    "papermill": {
     "duration": 0.28309,
     "end_time": "2021-01-22T00:59:55.839300",
     "exception": false,
     "start_time": "2021-01-22T00:59:55.556210",
     "status": "completed"
    },
    "tags": []
   },
   "outputs": [],
   "source": [
    "submission_df.to_csv(\"submission.csv\", index=False)"
   ]
  }
 ],
 "metadata": {
  "kernelspec": {
   "display_name": "Python 3",
   "language": "python",
   "name": "python3"
  },
  "language_info": {
   "codemirror_mode": {
    "name": "ipython",
    "version": 3
   },
   "file_extension": ".py",
   "mimetype": "text/x-python",
   "name": "python",
   "nbconvert_exporter": "python",
   "pygments_lexer": "ipython3",
   "version": "3.8.6"
  },
  "papermill": {
   "duration": 67.688973,
   "end_time": "2021-01-22T00:59:57.489130",
   "environment_variables": {},
   "exception": null,
   "input_path": "__notebook__.ipynb",
   "output_path": "__notebook__.ipynb",
   "parameters": {},
   "start_time": "2021-01-22T00:58:49.800157",
   "version": "2.1.0"
  },
  "toc": {
   "base_numbering": 1,
   "nav_menu": {},
   "number_sections": false,
   "sideBar": true,
   "skip_h1_title": false,
   "title_cell": "Table of Contents",
   "title_sidebar": "Contents",
   "toc_cell": false,
   "toc_position": {},
   "toc_section_display": true,
   "toc_window_display": true
  }
 },
 "nbformat": 4,
 "nbformat_minor": 4
}
